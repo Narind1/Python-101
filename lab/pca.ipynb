{
 "cells": [
  {
   "cell_type": "code",
   "execution_count": 7,
   "metadata": {},
   "outputs": [],
   "source": [
    "import numpy as np\n",
    "from sklearn.decomposition import PCA\n",
    "from sklearn.preprocessing import StandardScaler"
   ]
  },
  {
   "cell_type": "code",
   "execution_count": 22,
   "metadata": {},
   "outputs": [],
   "source": [
    "X = np.random.rand(100,100)"
   ]
  },
  {
   "cell_type": "code",
   "execution_count": 23,
   "metadata": {},
   "outputs": [
    {
     "data": {
      "text/plain": [
       "array([[0.47454569, 0.79836609, 0.73732937, ..., 0.06155576, 0.91213271,\n",
       "        0.09457314],\n",
       "       [0.33186551, 0.67335104, 0.25013214, ..., 0.68753105, 0.71061285,\n",
       "        0.54597524],\n",
       "       [0.07443658, 0.56541776, 0.11575149, ..., 0.85106715, 0.15031632,\n",
       "        0.62936302],\n",
       "       ...,\n",
       "       [0.90171744, 0.11773385, 0.43113427, ..., 0.23492691, 0.49439817,\n",
       "        0.18709122],\n",
       "       [0.63412229, 0.09046458, 0.69055983, ..., 0.21594654, 0.21201427,\n",
       "        0.7203308 ],\n",
       "       [0.32702148, 0.03791039, 0.71133566, ..., 0.34927275, 0.20176708,\n",
       "        0.67601564]])"
      ]
     },
     "execution_count": 23,
     "metadata": {},
     "output_type": "execute_result"
    }
   ],
   "source": [
    "X"
   ]
  },
  {
   "cell_type": "code",
   "execution_count": 24,
   "metadata": {},
   "outputs": [],
   "source": [
    "scaler = StandardScaler()\n",
    "x_scaled = scaler.fit_transform(X)"
   ]
  },
  {
   "cell_type": "code",
   "execution_count": 27,
   "metadata": {},
   "outputs": [],
   "source": [
    "pca = PCA(n_components=99)\n",
    "x_pca = pca.fit_transform(x_scaled)"
   ]
  },
  {
   "cell_type": "code",
   "execution_count": 28,
   "metadata": {},
   "outputs": [
    {
     "data": {
      "text/plain": [
       "array([[ 2.43310585e-01, -1.83037909e+00,  1.75289715e+00, ...,\n",
       "        -1.05524513e-02,  1.13335204e-02,  3.36867279e-02],\n",
       "       [-1.12771738e+00, -1.79545767e+00, -1.91075898e+00, ...,\n",
       "        -5.51369458e-02, -3.86905815e-02,  1.48108332e-02],\n",
       "       [-3.48305546e+00, -8.52194381e-01,  2.02531125e-01, ...,\n",
       "         2.42495654e-02, -6.43035810e-04,  1.17974700e-04],\n",
       "       ...,\n",
       "       [-7.95750802e-01, -1.48315920e+00,  3.82787403e-01, ...,\n",
       "         4.56685312e-02,  2.38662884e-03,  3.11944452e-03],\n",
       "       [ 2.36522732e+00,  2.84900317e-01, -1.76870316e-01, ...,\n",
       "        -1.94289945e-02, -4.82300351e-02, -1.87922800e-02],\n",
       "       [ 2.43505712e-01,  1.73236859e+00,  1.25113841e+00, ...,\n",
       "         3.05622287e-02,  6.78515696e-02,  2.14779054e-02]])"
      ]
     },
     "execution_count": 28,
     "metadata": {},
     "output_type": "execute_result"
    }
   ],
   "source": [
    "x_pca"
   ]
  },
  {
   "cell_type": "code",
   "execution_count": null,
   "metadata": {},
   "outputs": [],
   "source": []
  }
 ],
 "metadata": {
  "kernelspec": {
   "display_name": "Python 3",
   "language": "python",
   "name": "python3"
  },
  "language_info": {
   "codemirror_mode": {
    "name": "ipython",
    "version": 3
   },
   "file_extension": ".py",
   "mimetype": "text/x-python",
   "name": "python",
   "nbconvert_exporter": "python",
   "pygments_lexer": "ipython3",
   "version": "3.12.1"
  }
 },
 "nbformat": 4,
 "nbformat_minor": 2
}
