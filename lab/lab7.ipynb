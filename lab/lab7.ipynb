{
 "cells": [
  {
   "cell_type": "code",
   "execution_count": 36,
   "metadata": {},
   "outputs": [
    {
     "name": "stdout",
     "output_type": "stream",
     "text": [
      "   feature1  feature2  category_blue  category_green  category_red\n",
      "0  0.000000 -1.341641            0.0             0.0           1.0\n",
      "1  0.333333 -0.447214            0.0             1.0           0.0\n",
      "2  0.666667  0.447214            1.0             0.0           0.0\n",
      "3  1.000000  1.341641            0.0             0.0           1.0\n"
     ]
    }
   ],
   "source": [
    "import pandas as pd\n",
    "from sklearn.preprocessing import StandardScaler, OneHotEncoder, MinMaxScaler\n",
    "\n",
    "data = {'feature1': [10, 20, 30, 40],\n",
    "        'feature2': [1.5, 2.5, 3.5, 4.5],\n",
    "        'category': ['red', 'green', 'blue', 'red']}\n",
    "df = pd.DataFrame(data)\n",
    "\n",
    "min_max_scaler = MinMaxScaler()\n",
    "df['feature1'] = min_max_scaler.fit_transform(df[['feature1']])\n",
    "standard_scaler = StandardScaler()\n",
    "df['feature2'] = standard_scaler.fit_transform(df[['feature2']])\n",
    "one_hot_encoder = OneHotEncoder(sparse_output=False)\n",
    "encoded_category = one_hot_encoder.fit_transform(df[['category']])\n",
    "encoded_category_df = pd.DataFrame(encoded_category, columns=one_hot_encoder.get_feature_names_out(['category']))\n",
    "df = pd.concat([df, encoded_category_df], axis=1).drop('category', axis=1)\n",
    "print(df)\n"
   ]
  }
 ],
 "metadata": {
  "kernelspec": {
   "display_name": "Python 3",
   "language": "python",
   "name": "python3"
  },
  "language_info": {
   "codemirror_mode": {
    "name": "ipython",
    "version": 3
   },
   "file_extension": ".py",
   "mimetype": "text/x-python",
   "name": "python",
   "nbconvert_exporter": "python",
   "pygments_lexer": "ipython3",
   "version": "3.12.1"
  }
 },
 "nbformat": 4,
 "nbformat_minor": 2
}
