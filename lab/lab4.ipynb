{
 "cells": [
  {
   "cell_type": "code",
   "execution_count": 1,
   "metadata": {},
   "outputs": [
    {
     "name": "stdout",
     "output_type": "stream",
     "text": [
      "First few rows of the dataset:\n",
      "   Id                         Alias  PersonId\n",
      "0   1                111th congress         1\n",
      "1   2  agna usemb kabul afghanistan         2\n",
      "2   3                            ap         3\n",
      "3   4                      asuncion         4\n",
      "4   5                          alec         5\n",
      "\n",
      "DataFrame Info:\n",
      "<class 'pandas.core.frame.DataFrame'>\n",
      "RangeIndex: 850 entries, 0 to 849\n",
      "Data columns (total 3 columns):\n",
      " #   Column    Non-Null Count  Dtype \n",
      "---  ------    --------------  ----- \n",
      " 0   Id        850 non-null    int64 \n",
      " 1   Alias     850 non-null    object\n",
      " 2   PersonId  850 non-null    int64 \n",
      "dtypes: int64(2), object(1)\n",
      "memory usage: 20.1+ KB\n",
      "None\n",
      "\n",
      "Summary Statistics:\n",
      "              Id    PersonId\n",
      "count  850.00000  850.000000\n",
      "mean   425.50000  196.392941\n",
      "std    245.51816  142.304377\n",
      "min      1.00000    1.000000\n",
      "25%    213.25000   81.000000\n",
      "50%    425.50000  167.500000\n",
      "75%    637.75000  300.750000\n",
      "max    850.00000  513.000000\n",
      "\n",
      "Missing Values:\n",
      "Id          0\n",
      "Alias       0\n",
      "PersonId    0\n",
      "dtype: int64\n"
     ]
    }
   ],
   "source": [
    "import pandas as pd\n",
    "df = pd.read_csv(\"Aliases.csv\")\n",
    "\n",
    "print(\"First few rows of the dataset:\")\n",
    "print(df.head())\n",
    "\n",
    "print(\"\\nDataFrame Info:\")\n",
    "print(df.info())\n",
    "\n",
    "print(\"\\nSummary Statistics:\")\n",
    "print(df.describe())\n",
    "\n",
    "print(\"\\nMissing Values:\")\n",
    "print(df.isnull().sum())\n",
    "\n",
    "df.to_csv('output.csv', index=False)\n",
    "\n"
   ]
  }
 ],
 "metadata": {
  "kernelspec": {
   "display_name": "Python 3",
   "language": "python",
   "name": "python3"
  },
  "language_info": {
   "codemirror_mode": {
    "name": "ipython",
    "version": 3
   },
   "file_extension": ".py",
   "mimetype": "text/x-python",
   "name": "python",
   "nbconvert_exporter": "python",
   "pygments_lexer": "ipython3",
   "version": "3.12.1"
  }
 },
 "nbformat": 4,
 "nbformat_minor": 2
}
